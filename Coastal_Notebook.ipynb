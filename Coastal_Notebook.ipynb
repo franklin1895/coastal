{
 "cells": [
  {
   "cell_type": "markdown",
   "metadata": {},
   "source": [
    "# COASTSAT & CEM"
   ]
  },
  {
   "cell_type": "code",
   "execution_count": 1,
   "id": "23018ec7",
   "metadata": {},
   "outputs": [],
   "source": [
    "import matplotlib.pyplot as plt\n",
    "from matplotlib import path\n",
    "%matplotlib inline\n",
    "import numpy as np\n",
    "import pandas as pd\n",
    "from scipy import stats\n",
    "\n",
    "import buoypy as bp\n",
    "import data_prep_fun as dpf"
   ]
  },
  {
   "cell_type": "markdown",
   "metadata": {},
   "source": [
    "\n",
    "## CoastSat\n",
    "## Initial settings\n",
    "Refer to the Installation section of the README for instructions on how to install the Python packages necessary to run the software, including Google Earth Engine Python API. If that step has been completed correctly, the following packages should be imported without any problem.\n",
    "\n"
   ]
  },
  {
   "cell_type": "code",
   "execution_count": 1,
   "metadata": {},
   "outputs": [],
   "source": [
    "import os\n",
    "import numpy as np\n",
    "import pickle\n",
    "import warnings\n",
    "warnings.filterwarnings(\"ignore\")\n",
    "import matplotlib\n",
    "matplotlib.use('Qt5Agg')\n",
    "import matplotlib.pyplot as plt\n",
    "from matplotlib import gridspec\n",
    "plt.ion()\n",
    "import pandas as pd\n",
    "from datetime import datetime\n",
    "\n",
    "\n",
    "from coastsat import SDS_download, SDS_preprocess, SDS_shoreline, SDS_tools, SDS_transects"
   ]
  },
  {
   "cell_type": "markdown",
   "metadata": {},
   "source": [
    "### 1. Retrieval of the images from GEE\n",
    "Define the region of interest (polygon), the date range (dates) and the satellite missions (sat_list) from which you wish to retrieve the satellite images. The images will be cropped on the Google Earth Engine server and only the region of interest will be downloaded as a .tif file. The files will stored in the directory defined in filepath.\n",
    "\n",
    "Make sure the area of your ROI is smaller than 100 km2 (if larger split it into smaller ROIs).\n",
    "\n",
    "The function SDS_download.check_images_available(inputs) will print the number of images available for your inputs. The Landsat images are divided in Tier 1 and Tier 2, only Tier 1 images can be used for time-series analysis."
   ]
  },
  {
   "cell_type": "code",
   "execution_count": 2,
   "metadata": {},
   "outputs": [
    {
     "name": "stdout",
     "output_type": "stream",
     "text": [
      "Images available between 1985-04-01 and 1985-09-01:\n",
      "- In Landsat Tier 1 & Sentinel-2 Level-1C:\n",
      "  L5: 6 images\n",
      "  Total: 6 images\n",
      "- In Landsat Tier 2:\n",
      "  L5: 4 images\n",
      "  Total: 4 images\n"
     ]
    }
   ],
   "source": [
    "# region of interest (longitude, latitude)\n",
    "polygon = [[[-80.181811, 42.175542],\n",
    "[-80.053400,  42.175938],\n",
    "[-80.055316,  42.099772],\n",
    "[-80.178013,  42.100109],\n",
    "[-80.181811, 42.175542]]]\n",
    " \n",
    "# it's recommended to convert the polygon to the smallest rectangle (sides parallel to coordinate axes)       \n",
    "polygon = SDS_tools.smallest_rectangle(polygon)\n",
    "# date range\n",
    "dates = ['1985-04-01', '1985-09-01']\n",
    "# satellite missions\n",
    "sat_list = ['L5']\n",
    "# name of the site\n",
    "sitename = 'Erie_test'\n",
    "# directory where the data will be stored\n",
    "filepath = os.path.join(os.getcwd(), 'data')\n",
    "# put all the inputs into a dictionnary\n",
    "inputs = {'polygon': polygon, 'dates': dates, 'sat_list': sat_list, 'sitename': sitename, 'filepath':filepath}\n",
    "\n",
    "# before downloading the images, check how many images are available for your inputs\n",
    "SDS_download.check_images_available(inputs);"
   ]
  },
  {
   "cell_type": "markdown",
   "metadata": {},
   "source": [
    "The function SDS_download.retrieve_images(inputs) retrives the satellite images from Google Earth Engine.\n",
    "\n",
    "By default, only Landsat Tier 1 Top-of-Atmosphere and Sentinel-2 Level-1C products are downloaded.\n",
    "\n",
    "In case you need to access Tier 2 images for qualitative analysis, you need to set inputs['include_T2'] = True before calling retrieve_images."
   ]
  },
  {
   "cell_type": "code",
   "execution_count": 3,
   "metadata": {},
   "outputs": [
    {
     "name": "stdout",
     "output_type": "stream",
     "text": [
      "Images available between 1985-04-01 and 1985-09-01:\n",
      "- In Landsat Tier 1 & Sentinel-2 Level-1C:\n",
      "  L5: 6 images\n",
      "  Total: 6 images\n",
      "- In Landsat Tier 2:\n",
      "  L5: 4 images\n",
      "  Total: 4 images\n",
      "\n",
      "Downloading images:\n",
      "L5: 6 images\n",
      "100%\n"
     ]
    }
   ],
   "source": [
    "# inputs['include_T2'] = True\n",
    "metadata = SDS_download.retrieve_images(inputs)"
   ]
  },
  {
   "cell_type": "markdown",
   "metadata": {},
   "source": [
    "If you have already retrieved the images, just load the metadata file by only running the section below"
   ]
  },
  {
   "cell_type": "code",
   "execution_count": 4,
   "metadata": {},
   "outputs": [],
   "source": [
    "metadata = SDS_download.get_metadata(inputs) "
   ]
  },
  {
   "cell_type": "markdown",
   "metadata": {},
   "source": [
    "## 2. Shoreline extraction\n",
    "This section maps the position of the shoreline on the satellite images. The user can define the cloud threhold (cloud_thresh) and select the spatial reference system in which to output the coordinates of the mapped shorelines (output_epsg). See http://spatialreference.org/ to find the EPSG number corresponding to your local coordinate system. Make sure that your are using cartesian coordinates and not spherical coordinates (lat,lon) like WGS84. If unsure, use 3857 which is the web mercator projection (used by Google Maps).\n",
    "\n",
    "To quality control each shoreline detection and manually validate the mapped shorelines, the user has the option to set the parameter check_detection to True. To adjust the position of each shoreline by modifying the threshold defining the sand/water interface you can set adjust_detection to True. Finally, to save a figure for each mapped shoreline as a .jpg in the folder /jpg_files/detection set save_figure to True.\n",
    "\n",
    "The other parameters are for advanced users only and are described in the README."
   ]
  },
  {
   "cell_type": "code",
   "execution_count": 5,
   "metadata": {},
   "outputs": [],
   "source": [
    "settings = { \n",
    "    # general parameters:\n",
    "    'cloud_thresh': 0.5,        # threshold on maximum cloud cover\n",
    "    'output_epsg': 32617,        # epsg code of spatial reference system desired for the output   \n",
    "    # quality control:\n",
    "    'check_detection': True,    # if True, shows each shoreline detection to the user for validation\n",
    "    'adjust_detection': False,  # if True, allows user to adjust the postion of each shoreline by changing the threhold\n",
    "    'save_figure': True,        # if True, saves a figure showing the mapped shoreline for each image\n",
    "    # [ONLY FOR ADVANCED USERS] shoreline detection parameters:\n",
    "    'min_beach_area': 4500,     # minimum area (in metres^2) for an object to be labelled as a beach\n",
    "    'buffer_size': 150,         # radius (in metres) for buffer around sandy pixels considered in the shoreline detection\n",
    "    'min_length_sl': 200,       # minimum length (in metres) of shoreline perimeter to be valid\n",
    "    'cloud_mask_issue': False,  # switch this parameter to True if sand pixels are masked (in black) on many images  \n",
    "    'sand_color': 'default',    # 'default', 'dark' (for grey/black sand beaches) or 'bright' (for white sand beaches)\n",
    "    # add the inputs defined previously\n",
    "    'inputs': inputs\n",
    "}"
   ]
  },
  {
   "cell_type": "markdown",
   "metadata": {},
   "source": [
    "### [OPTIONAL] Save .jpg of the satellite images\n",
    "Saves .jpg files of the preprocessed satellite images (cloud masking + pansharpening/down-sampling) under ./data/sitename/jpeg_files\\preprocessed"
   ]
  },
  {
   "cell_type": "code",
   "execution_count": 6,
   "metadata": {},
   "outputs": [
    {
     "name": "stdout",
     "output_type": "stream",
     "text": [
      "Satellite images saved as .jpg in C:\\Users\\HP\\Desktop\\coastal\\data\\Erie_test\\jpg_files\\preprocessed\n"
     ]
    }
   ],
   "source": [
    "SDS_preprocess.save_jpg(metadata, settings)"
   ]
  },
  {
   "cell_type": "markdown",
   "metadata": {},
   "source": [
    "### [OPTIONAL] Digitize a reference shoreline\n",
    "Creates a reference shoreline which helps to identify outliers and false detections. The reference shoreline is manually digitised by the user on one of the images. The parameter max_dist_ref defines the maximum distance from the reference shoreline (in metres) at which a valid detected shoreline can be. If you think that the default value of 100 m will not capture the full shoreline variability of your site, increase this value to an appropriate distance."
   ]
  },
  {
   "cell_type": "code",
   "execution_count": 9,
   "metadata": {},
   "outputs": [
    {
     "name": "stdout",
     "output_type": "stream",
     "text": [
      "[]\n",
      "Reference shoreline has been saved in C:\\Users\\HP\\Desktop\\coastal\\data\\Erie_test\n"
     ]
    }
   ],
   "source": [
    "%matplotlib qt\n",
    "\n",
    "settings['reference_shoreline'] = SDS_preprocess.get_reference_sl(metadata, settings)\n",
    "#print(settings['reference_shoreline'])\n",
    "np.savetxt('pt_coords.txt',settings['reference_shoreline'])\n",
    "\n",
    "#settings['max_dist_ref'] = 1000 # max distance (in meters) allowed from the reference shoreline"
   ]
  },
  {
   "cell_type": "markdown",
   "metadata": {},
   "source": [
    "## Extract Wave Data"
   ]
  },
  {
   "cell_type": "markdown",
   "metadata": {},
   "source": [
    "This section will extract wave data from an NDBC buoy and prepare it for input into the CEM. The user must provide the buoy identifier. "
   ]
  },
  {
   "cell_type": "code",

   "execution_count": 13,
   "metadata": {
    "scrolled": true
   },
   "outputs": [],
   "source": [
    "import matplotlib.pyplot as plt\n",
    "%matplotlib inline\n",
    "import numpy as np\n",
    "import pandas as pd\n",
    "import buoypy as bp"
   ]
  },
  {
   "cell_type": "code",
   "execution_count": 17,

   "metadata": {
    "scrolled": false
   },
   "outputs": [
    {
     "name": "stdout",
     "output_type": "stream",
     "text": [
      "Appending data from: http://www.ndbc.noaa.gov/view_text_file.php?filename=45167h2014.txt.gz&dir=data/historical/stdmet/\n",
      "Appending data from: http://www.ndbc.noaa.gov/view_text_file.php?filename=45167h2015.txt.gz&dir=data/historical/stdmet/\n",
      "Appending data from: http://www.ndbc.noaa.gov/view_text_file.php?filename=45167h2016.txt.gz&dir=data/historical/stdmet/\n",
      "Appending data from: http://www.ndbc.noaa.gov/view_text_file.php?filename=45167h2017.txt.gz&dir=data/historical/stdmet/\n",
      "Appending data from: http://www.ndbc.noaa.gov/view_text_file.php?filename=45167h2018.txt.gz&dir=data/historical/stdmet/\n",
      "Appending data from: http://www.ndbc.noaa.gov/view_text_file.php?filename=45167h2019.txt.gz&dir=data/historical/stdmet/\n",
      "Appending data from: http://www.ndbc.noaa.gov/view_text_file.php?filename=45167h2020.txt.gz&dir=data/historical/stdmet/\n"
     ]
    }
   ],
   "source": [
    "# user input from NDBC buoy (make sure buoy has wave height available)\n",
    "station = 45167\n",
    "year = np.NAN\n",
    "year_range = (2014,2020)\n",
    "\n",
    "H = bp.historic_data(station,year,year_range)\n",
    "X = H.get_all_stand_meteo()"
   ]
  },
  {
   "cell_type": "code",

   "execution_count": 18,

   "metadata": {},
   "outputs": [],
   "source": [
    "# get rid of missing data\n",
    "X.mask((X==99.0) | (X==9999.0), inplace=True)\n",
    "#X.head(3) #preview first 3 lines of table"
   ]
  },
  {
   "cell_type": "code",
   "execution_count": 9,
   "id": "c6d2d570",
   "metadata": {},
   "outputs": [
    {
     "data": {
      "image/png": "[encoded data removed]",
      "text/plain": [
       "<Figure size 432x288 with 2 Axes>"
      ]
     },
     "metadata": {
      "needs_background": "light"
     },
     "output_type": "display_data"
    }
   ],
   "source": [
    "# plot relevant data to check it looks ok\n",
    "plotdata = True\n",
    "if plotdata == True: dpf.plotmeteo(X)\n"
   ]
  },
  {
   "cell_type": "code",

   "execution_count": 19,

   "metadata": {},
   "outputs": [
    {
     "name": "stdout",
     "output_type": "stream",
     "text": [
      "0.4855724949016968 3.1576545790785557 [214.]\n"
     ]
    }
   ],
   "source": [
    "# prep wave data for CEM\n",
    "Hs = np.mean(X.WVHT)\n",
    "Tp = np.mean(X.DPD)\n",
    "[Dir,count] = stats.mode(X.WDIR) # is this how we want to do this for dir? find peak instea?\n",
    "\n",
    "print(Hs, Tp, Dir)"
   ]
  },
  {
   "cell_type": "markdown",
   "id": "2c07cd8c",
   "metadata": {},
   "source": [
    "## Convert CoastSat shoreline to grid for CEM"
   ]
  },
  {
   "cell_type": "code",
   "execution_count": 6,
   "id": "e31bb088",
   "metadata": {},
   "outputs": [],
   "source": [
    "# dummy shoreline that will be replaced by CoastSat shoreline\n",
    "xy = np.loadtxt('Erie_spit_ESPIn.xy')\n",
    "# shoreline\n",
    "x=xy[:,0]\n",
    "y=xy[:,1]\n",
    "dx=100\n",
    "dy=100"
   ]
  },
  {
   "cell_type": "markdown",
   "id": "0aa51d18",
   "metadata": {},
   "source": [
    "CoastSat outputs an array of [X,Y] UTM coordinates for our shoreline. CEM requires an [X,Y,Z] mesh. In the shorelinetogrid function we generate crossshore elevation for our grid using the Dean Profile equation (Dean, 1991): \n",
    "\n",
    "$h(x) = Ax^{m}$\n",
    "\n",
    "where:\n",
    "    <li>h=depth (m)</li>\n",
    "    <li>x=cross-shore distance (m)</li> \n",
    "    <li>A=shape parameter (0.05 to 0.25 based on sed. characteristics, hardcoded to be 0.1)</li>\n",
    "    <li>m = 2/3 (describes the typical concave up shape of beach slope</li>\n",
    "       \n",
    "*note that while this equation can provide a relatively accurate first cut assesment of nearshore bathymetry, it was designed for planar beaches with uniform slope (i.e., no sand bars or complicated bathymetry)*"
   ]
  },
  {
   "cell_type": "code",
   "execution_count": 7,
   "id": "656b02e9",
   "metadata": {
    "scrolled": false
   },
   "outputs": [
    {
     "data": {
      "image/png": "[encoded data removed]",
      "text/plain": [
       "<Figure size 432x288 with 2 Axes>"
      ]
     },
     "metadata": {
      "needs_background": "light"
     },
     "output_type": "display_data"
    }
   ],
   "source": [
    "[xg,yg,elev] = dpf.shorelinetogrid(x,y,dx,dy,plotdata=True)"
   ]
  },
  {
   "cell_type": "code",   "execution_count": null,

   "metadata": {},
   "outputs": [],
   "source": []
  }
 ],
 "metadata": {
  "kernelspec": {
   "display_name": "Python 3",
   "language": "python",
   "name": "python3"
  },
  "language_info": {
   "codemirror_mode": {
    "name": "ipython",
    "version": 3
   },
   "file_extension": ".py",
   "mimetype": "text/x-python",
   "name": "python",
   "nbconvert_exporter": "python",
   "pygments_lexer": "ipython3",

   "version": "3.9.4"

  }
 },
 "nbformat": 4,
 "nbformat_minor": 5
}
